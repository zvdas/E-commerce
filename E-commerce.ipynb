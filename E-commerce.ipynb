{
  "nbformat": 4,
  "nbformat_minor": 5,
  "metadata": {
    "kernelspec": {
      "display_name": "Python 3",
      "language": "python",
      "name": "python3"
    },
    "language_info": {
      "name": ""
    },
    "colab": {
      "name": "E-commerce.ipynb",
      "provenance": [],
      "include_colab_link": true
    }
  },
  "cells": [
    {
      "cell_type": "markdown",
      "metadata": {
        "id": "view-in-github",
        "colab_type": "text"
      },
      "source": [
        "<a href=\"https://colab.research.google.com/github/zvdas/E-commerce/blob/main/E-commerce.ipynb\" target=\"_parent\"><img src=\"https://colab.research.google.com/assets/colab-badge.svg\" alt=\"Open In Colab\"/></a>"
      ]
    },
    {
      "cell_type": "code",
      "metadata": {
        "id": "850ce3ec"
      },
      "source": [
        "import pandas as pd\n",
        "import numpy as np"
      ],
      "id": "850ce3ec",
      "execution_count": 1,
      "outputs": []
    },
    {
      "cell_type": "code",
      "metadata": {
        "id": "3e4ceb17",
        "outputId": "ec3c2777-7045-4bd4-cc78-a6a8a86beff5",
        "colab": {
          "base_uri": "https://localhost:8080/",
          "height": 595
        }
      },
      "source": [
        "ecomm_train = pd.read_csv('train_data.csv')\n",
        "ecomm_train.head()"
      ],
      "id": "3e4ceb17",
      "execution_count": 2,
      "outputs": [
        {
          "output_type": "execute_result",
          "data": {
            "text/html": [
              "<div>\n",
              "<style scoped>\n",
              "    .dataframe tbody tr th:only-of-type {\n",
              "        vertical-align: middle;\n",
              "    }\n",
              "\n",
              "    .dataframe tbody tr th {\n",
              "        vertical-align: top;\n",
              "    }\n",
              "\n",
              "    .dataframe thead th {\n",
              "        text-align: right;\n",
              "    }\n",
              "</style>\n",
              "<table border=\"1\" class=\"dataframe\">\n",
              "  <thead>\n",
              "    <tr style=\"text-align: right;\">\n",
              "      <th></th>\n",
              "      <th>name</th>\n",
              "      <th>brand</th>\n",
              "      <th>categories</th>\n",
              "      <th>primaryCategories</th>\n",
              "      <th>reviews.date</th>\n",
              "      <th>reviews.text</th>\n",
              "      <th>reviews.title</th>\n",
              "      <th>sentiment</th>\n",
              "    </tr>\n",
              "  </thead>\n",
              "  <tbody>\n",
              "    <tr>\n",
              "      <th>0</th>\n",
              "      <td>All-New Fire HD 8 Tablet, 8\" HD Display, Wi-Fi...</td>\n",
              "      <td>Amazon</td>\n",
              "      <td>Electronics,iPad &amp; Tablets,All Tablets,Fire Ta...</td>\n",
              "      <td>Electronics</td>\n",
              "      <td>2016-12-26T00:00:00.000Z</td>\n",
              "      <td>Purchased on Black FridayPros - Great Price (e...</td>\n",
              "      <td>Powerful tablet</td>\n",
              "      <td>Positive</td>\n",
              "    </tr>\n",
              "    <tr>\n",
              "      <th>1</th>\n",
              "      <td>Amazon - Echo Plus w/ Built-In Hub - Silver</td>\n",
              "      <td>Amazon</td>\n",
              "      <td>Amazon Echo,Smart Home,Networking,Home &amp; Tools...</td>\n",
              "      <td>Electronics,Hardware</td>\n",
              "      <td>2018-01-17T00:00:00.000Z</td>\n",
              "      <td>I purchased two Amazon in Echo Plus and two do...</td>\n",
              "      <td>Amazon Echo Plus AWESOME</td>\n",
              "      <td>Positive</td>\n",
              "    </tr>\n",
              "    <tr>\n",
              "      <th>2</th>\n",
              "      <td>Amazon Echo Show Alexa-enabled Bluetooth Speak...</td>\n",
              "      <td>Amazon</td>\n",
              "      <td>Amazon Echo,Virtual Assistant Speakers,Electro...</td>\n",
              "      <td>Electronics,Hardware</td>\n",
              "      <td>2017-12-20T00:00:00.000Z</td>\n",
              "      <td>Just an average Alexa option. Does show a few ...</td>\n",
              "      <td>Average</td>\n",
              "      <td>Neutral</td>\n",
              "    </tr>\n",
              "    <tr>\n",
              "      <th>3</th>\n",
              "      <td>Fire HD 10 Tablet, 10.1 HD Display, Wi-Fi, 16 ...</td>\n",
              "      <td>Amazon</td>\n",
              "      <td>eBook Readers,Fire Tablets,Electronics Feature...</td>\n",
              "      <td>Office Supplies,Electronics</td>\n",
              "      <td>2017-08-04T00:00:00.000Z</td>\n",
              "      <td>very good product. Exactly what I wanted, and ...</td>\n",
              "      <td>Greattttttt</td>\n",
              "      <td>Positive</td>\n",
              "    </tr>\n",
              "    <tr>\n",
              "      <th>4</th>\n",
              "      <td>Brand New Amazon Kindle Fire 16gb 7\" Ips Displ...</td>\n",
              "      <td>Amazon</td>\n",
              "      <td>Computers/Tablets &amp; Networking,Tablets &amp; eBook...</td>\n",
              "      <td>Electronics</td>\n",
              "      <td>2017-01-23T00:00:00.000Z</td>\n",
              "      <td>This is the 3rd one I've purchased. I've bough...</td>\n",
              "      <td>Very durable!</td>\n",
              "      <td>Positive</td>\n",
              "    </tr>\n",
              "  </tbody>\n",
              "</table>\n",
              "</div>"
            ],
            "text/plain": [
              "                                                name  ... sentiment\n",
              "0  All-New Fire HD 8 Tablet, 8\" HD Display, Wi-Fi...  ...  Positive\n",
              "1        Amazon - Echo Plus w/ Built-In Hub - Silver  ...  Positive\n",
              "2  Amazon Echo Show Alexa-enabled Bluetooth Speak...  ...   Neutral\n",
              "3  Fire HD 10 Tablet, 10.1 HD Display, Wi-Fi, 16 ...  ...  Positive\n",
              "4  Brand New Amazon Kindle Fire 16gb 7\" Ips Displ...  ...  Positive\n",
              "\n",
              "[5 rows x 8 columns]"
            ]
          },
          "metadata": {},
          "execution_count": 2
        }
      ]
    },
    {
      "cell_type": "code",
      "metadata": {
        "id": "suEKA5KhjOAj"
      },
      "source": [
        ""
      ],
      "id": "suEKA5KhjOAj",
      "execution_count": null,
      "outputs": []
    }
  ]
}